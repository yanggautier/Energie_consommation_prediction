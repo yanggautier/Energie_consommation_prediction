{
 "cells": [
  {
   "cell_type": "code",
   "execution_count": 23,
   "id": "cab0bb6b",
   "metadata": {},
   "outputs": [],
   "source": [
    "from __future__ import annotations\n",
    "import bentoml\n",
    "from datetime import datetime\n",
    "from pydantic import BaseModel, PositiveInt\n",
    "from typing import Optional"
   ]
  },
  {
   "cell_type": "code",
   "execution_count": 26,
   "id": "5a9ad6d2",
   "metadata": {},
   "outputs": [],
   "source": [
    "import joblib\n",
    "import pickle\n",
    "from xgboost import XGBRegressor\n",
    "from sklearn.pipeline import Pipeline"
   ]
  },
  {
   "cell_type": "code",
   "execution_count": 25,
   "id": "eee4b30b",
   "metadata": {},
   "outputs": [],
   "source": [
    "import pandas as pd\n",
    "import matplotlib.pyplot as plt\n",
    "import seaborn as sns\n",
    "import numpy as np\n",
    "import joblib\n",
    "\n",
    "from pprint import pprint\n",
    "from xgboost import XGBRegressor\n",
    "\n",
    "from sklearn.pipeline import Pipeline\n",
    "from sklearn.inspection import permutation_importance\n",
    "\n",
    "from sklearn.base import BaseEstimator, TransformerMixin\n",
    "from sklearn.model_selection import (\n",
    "    train_test_split,\n",
    "    GridSearchCV, \n",
    "    cross_val_score\n",
    ")\n",
    "from sklearn.metrics import mean_squared_error, r2_score, mean_absolute_error, root_mean_squared_error \n",
    "from sklearn.inspection import permutation_importance\n",
    "\n",
    "#Preprocess\n",
    "from sklearn.compose import ColumnTransformer\n",
    "from sklearn.preprocessing import LabelEncoder, OneHotEncoder, StandardScaler, MultiLabelBinarizer, FunctionTransformer\n",
    "\n",
    "from sklearn import linear_model\n",
    "\n",
    "#Modèles\n",
    "from sklearn.dummy import DummyRegressor\n",
    "from sklearn.linear_model import LinearRegression\n",
    "from sklearn.svm import SVR\n",
    "from sklearn.ensemble import RandomForestRegressor"
   ]
  },
  {
   "cell_type": "code",
   "execution_count": 6,
   "id": "7e5e4aa0",
   "metadata": {},
   "outputs": [],
   "source": [
    "class Building(BaseModel):  \n",
    "    DataYear: int = 2016\n",
    "    BuildingType: str\n",
    "    PrimaryPropertyType: str\n",
    "    SecondLargestPropertyUseType: Optional[str]\n",
    "    ThirdLargestPropertyUseType: Optional[str]\n",
    "    ZipCode: str\n",
    "    CouncilDistrictCode: int\n",
    "    Neighborhood: str\n",
    "    YearBuilt: int\n",
    "    NumberofBuildings: int\n",
    "    NumberofFloors: int\n",
    "    PropertyGFATotal: float\n",
    "    PropertyGFAParking: float\n",
    "    ListOfAllPropertyUseTypes: str\n",
    "    LargestPropertyUseType: str\n",
    "    SteamUsekBtu: float\n",
    "    NaturalGastherms: float\n",
    "    DefaultData: bool\n",
    "    ComplianceStatus: str"
   ]
  },
  {
   "cell_type": "code",
   "execution_count": 10,
   "id": "9771eb27",
   "metadata": {},
   "outputs": [],
   "source": [
    "external_data = {\n",
    "    \"DataYear\": 2016, \n",
    "    \"BuildingType\": \"NonResidential\",\n",
    "    \"PrimaryPropertyType\": \"Other\",\n",
    "    \"SecondLargestPropertyUseType\": None,\n",
    "    \"ThirdLargestPropertyUseType\": None,\n",
    "    \"ZipCode\": \"98101\",\n",
    "    \"CouncilDistrictCode\": \"7\",\n",
    "    \"Neighborhood\": \"DOWNTOWN\",\n",
    "    \"YearBuilt\": 2004,\n",
    "    \"NumberofBuildings\": 1,\n",
    "    \"NumberofFloors\": 11,\n",
    "    \"PropertyGFATotal\": 299070,\n",
    "    \"PropertyGFAParking\": 68432,\n",
    "    \"ListOfAllPropertyUseTypes\": \"Other\",\n",
    "    \"LargestPropertyUseType\": \"Other\",\n",
    "    \"SteamUsekBtu\": 0,\n",
    "    \"NaturalGastherms\": 346853.3125,\n",
    "    \"DefaultData\": False,\n",
    "    \"ComplianceStatus\": \"Compliant\"\n",
    "}\n",
    "\n",
    "building = Building(**external_data) "
   ]
  },
  {
   "cell_type": "code",
   "execution_count": 13,
   "id": "aad47f88",
   "metadata": {},
   "outputs": [
    {
     "data": {
      "text/plain": [
       "{'DataYear': 2016,\n",
       " 'BuildingType': 'NonResidential',\n",
       " 'PrimaryPropertyType': 'Other',\n",
       " 'SecondLargestPropertyUseType': None,\n",
       " 'ThirdLargestPropertyUseType': None,\n",
       " 'ZipCode': '98101',\n",
       " 'CouncilDistrictCode': 7,\n",
       " 'Neighborhood': 'DOWNTOWN',\n",
       " 'YearBuilt': 2004,\n",
       " 'NumberofBuildings': 1,\n",
       " 'NumberofFloors': 11,\n",
       " 'PropertyGFATotal': 299070.0,\n",
       " 'PropertyGFAParking': 68432.0,\n",
       " 'ListOfAllPropertyUseTypes': 'Other',\n",
       " 'LargestPropertyUseType': 'Other',\n",
       " 'SteamUsekBtu': 0.0,\n",
       " 'NaturalGastherms': 346853.3125,\n",
       " 'DefaultData': False,\n",
       " 'ComplianceStatus': 'Compliant'}"
      ]
     },
     "execution_count": 13,
     "metadata": {},
     "output_type": "execute_result"
    }
   ],
   "source": [
    "building.model_dump()"
   ]
  },
  {
   "cell_type": "code",
   "execution_count": 27,
   "id": "f02db429",
   "metadata": {},
   "outputs": [],
   "source": [
    "EXAMPLE_INPUT = {\n",
    "    \"DataYear\": 2016, \n",
    "    \"BuildingType\": \"NonResidential\",\n",
    "    \"PrimaryPropertyType\": \"Other\",\n",
    "    \"SecondLargestPropertyUseType\": None,\n",
    "    \"ThirdLargestPropertyUseType\": None,\n",
    "    \"ZipCode\": \"98101\",\n",
    "    \"CouncilDistrictCode\": \"7\",\n",
    "    \"Neighborhood\": \"DOWNTOWN\",\n",
    "    \"YearBuilt\": 2004,\n",
    "    \"NumberofBuildings\": 1,\n",
    "    \"NumberofFloors\": 11,\n",
    "    \"PropertyGFATotal\": 299070,\n",
    "    \"PropertyGFAParking\": 68432,\n",
    "    \"ListOfAllPropertyUseTypes\": \"Other\",\n",
    "    \"LargestPropertyUseType\": \"Other\",\n",
    "    \"SteamUsekBtu\": 0,\n",
    "    \"NaturalGastherms\": 346853.3125,\n",
    "    \"DefaultData\": False,\n",
    "    \"ComplianceStatus\": \"Compliant\"\n",
    "}\n",
    "\n",
    "\n",
    "@bentoml.service\n",
    "class Prediction:\n",
    "    def __init__(self) -> None:\n",
    "        self.model = joblib.load(\"model/xgb.model\")\n",
    "        self.pipeline = joblib.load(\"preprocessing.pipeline\")\n",
    "        self.scaler_y = joblib.load(\"y.scaler\")\n",
    "\n",
    "    @bentoml.api\n",
    "    def summarize(self, building: Building = EXAMPLE_INPUT) -> float:\n",
    "        transformed_data = self.pipeline([building])\n",
    "        result = self.model.predict(transformed_data)\n",
    "        return result"
   ]
  },
  {
   "cell_type": "code",
   "execution_count": 20,
   "id": "7d544bb9",
   "metadata": {},
   "outputs": [],
   "source": [
    "model = joblib.load(\"model/xgb.model\")"
   ]
  },
  {
   "cell_type": "code",
   "execution_count": 22,
   "id": "9fe0c64c",
   "metadata": {},
   "outputs": [
    {
     "ename": "AttributeError",
     "evalue": "Can't get attribute 'DistrictDensityTransformer' on <module '__main__'>",
     "output_type": "error",
     "traceback": [
      "\u001b[0;31m---------------------------------------------------------------------------\u001b[0m",
      "\u001b[0;31mAttributeError\u001b[0m                            Traceback (most recent call last)",
      "Cell \u001b[0;32mIn[22], line 1\u001b[0m\n\u001b[0;32m----> 1\u001b[0m pipeline \u001b[38;5;241m=\u001b[39m joblib\u001b[38;5;241m.\u001b[39mload(\u001b[38;5;124m\"\u001b[39m\u001b[38;5;124mpreprocessing.pipeline\u001b[39m\u001b[38;5;124m\"\u001b[39m)\n",
      "File \u001b[0;32m/opt/anaconda3/lib/python3.11/site-packages/joblib/numpy_pickle.py:658\u001b[0m, in \u001b[0;36mload\u001b[0;34m(filename, mmap_mode)\u001b[0m\n\u001b[1;32m    652\u001b[0m             \u001b[38;5;28;01mif\u001b[39;00m \u001b[38;5;28misinstance\u001b[39m(fobj, \u001b[38;5;28mstr\u001b[39m):\n\u001b[1;32m    653\u001b[0m                 \u001b[38;5;66;03m# if the returned file object is a string, this means we\u001b[39;00m\n\u001b[1;32m    654\u001b[0m                 \u001b[38;5;66;03m# try to load a pickle file generated with an version of\u001b[39;00m\n\u001b[1;32m    655\u001b[0m                 \u001b[38;5;66;03m# Joblib so we load it with joblib compatibility function.\u001b[39;00m\n\u001b[1;32m    656\u001b[0m                 \u001b[38;5;28;01mreturn\u001b[39;00m load_compatibility(fobj)\n\u001b[0;32m--> 658\u001b[0m             obj \u001b[38;5;241m=\u001b[39m _unpickle(fobj, filename, mmap_mode)\n\u001b[1;32m    659\u001b[0m \u001b[38;5;28;01mreturn\u001b[39;00m obj\n",
      "File \u001b[0;32m/opt/anaconda3/lib/python3.11/site-packages/joblib/numpy_pickle.py:577\u001b[0m, in \u001b[0;36m_unpickle\u001b[0;34m(fobj, filename, mmap_mode)\u001b[0m\n\u001b[1;32m    575\u001b[0m obj \u001b[38;5;241m=\u001b[39m \u001b[38;5;28;01mNone\u001b[39;00m\n\u001b[1;32m    576\u001b[0m \u001b[38;5;28;01mtry\u001b[39;00m:\n\u001b[0;32m--> 577\u001b[0m     obj \u001b[38;5;241m=\u001b[39m unpickler\u001b[38;5;241m.\u001b[39mload()\n\u001b[1;32m    578\u001b[0m     \u001b[38;5;28;01mif\u001b[39;00m unpickler\u001b[38;5;241m.\u001b[39mcompat_mode:\n\u001b[1;32m    579\u001b[0m         warnings\u001b[38;5;241m.\u001b[39mwarn(\u001b[38;5;124m\"\u001b[39m\u001b[38;5;124mThe file \u001b[39m\u001b[38;5;124m'\u001b[39m\u001b[38;5;132;01m%s\u001b[39;00m\u001b[38;5;124m'\u001b[39m\u001b[38;5;124m has been generated with a \u001b[39m\u001b[38;5;124m\"\u001b[39m\n\u001b[1;32m    580\u001b[0m                       \u001b[38;5;124m\"\u001b[39m\u001b[38;5;124mjoblib version less than 0.10. \u001b[39m\u001b[38;5;124m\"\u001b[39m\n\u001b[1;32m    581\u001b[0m                       \u001b[38;5;124m\"\u001b[39m\u001b[38;5;124mPlease regenerate this pickle file.\u001b[39m\u001b[38;5;124m\"\u001b[39m\n\u001b[1;32m    582\u001b[0m                       \u001b[38;5;241m%\u001b[39m filename,\n\u001b[1;32m    583\u001b[0m                       \u001b[38;5;167;01mDeprecationWarning\u001b[39;00m, stacklevel\u001b[38;5;241m=\u001b[39m\u001b[38;5;241m3\u001b[39m)\n",
      "File \u001b[0;32m/opt/anaconda3/lib/python3.11/pickle.py:1213\u001b[0m, in \u001b[0;36m_Unpickler.load\u001b[0;34m(self)\u001b[0m\n\u001b[1;32m   1211\u001b[0m             \u001b[38;5;28;01mraise\u001b[39;00m \u001b[38;5;167;01mEOFError\u001b[39;00m\n\u001b[1;32m   1212\u001b[0m         \u001b[38;5;28;01massert\u001b[39;00m \u001b[38;5;28misinstance\u001b[39m(key, bytes_types)\n\u001b[0;32m-> 1213\u001b[0m         dispatch[key[\u001b[38;5;241m0\u001b[39m]](\u001b[38;5;28mself\u001b[39m)\n\u001b[1;32m   1214\u001b[0m \u001b[38;5;28;01mexcept\u001b[39;00m _Stop \u001b[38;5;28;01mas\u001b[39;00m stopinst:\n\u001b[1;32m   1215\u001b[0m     \u001b[38;5;28;01mreturn\u001b[39;00m stopinst\u001b[38;5;241m.\u001b[39mvalue\n",
      "File \u001b[0;32m/opt/anaconda3/lib/python3.11/pickle.py:1538\u001b[0m, in \u001b[0;36m_Unpickler.load_stack_global\u001b[0;34m(self)\u001b[0m\n\u001b[1;32m   1536\u001b[0m \u001b[38;5;28;01mif\u001b[39;00m \u001b[38;5;28mtype\u001b[39m(name) \u001b[38;5;129;01mis\u001b[39;00m \u001b[38;5;129;01mnot\u001b[39;00m \u001b[38;5;28mstr\u001b[39m \u001b[38;5;129;01mor\u001b[39;00m \u001b[38;5;28mtype\u001b[39m(module) \u001b[38;5;129;01mis\u001b[39;00m \u001b[38;5;129;01mnot\u001b[39;00m \u001b[38;5;28mstr\u001b[39m:\n\u001b[1;32m   1537\u001b[0m     \u001b[38;5;28;01mraise\u001b[39;00m UnpicklingError(\u001b[38;5;124m\"\u001b[39m\u001b[38;5;124mSTACK_GLOBAL requires str\u001b[39m\u001b[38;5;124m\"\u001b[39m)\n\u001b[0;32m-> 1538\u001b[0m \u001b[38;5;28mself\u001b[39m\u001b[38;5;241m.\u001b[39mappend(\u001b[38;5;28mself\u001b[39m\u001b[38;5;241m.\u001b[39mfind_class(module, name))\n",
      "File \u001b[0;32m/opt/anaconda3/lib/python3.11/pickle.py:1582\u001b[0m, in \u001b[0;36m_Unpickler.find_class\u001b[0;34m(self, module, name)\u001b[0m\n\u001b[1;32m   1580\u001b[0m \u001b[38;5;28m__import__\u001b[39m(module, level\u001b[38;5;241m=\u001b[39m\u001b[38;5;241m0\u001b[39m)\n\u001b[1;32m   1581\u001b[0m \u001b[38;5;28;01mif\u001b[39;00m \u001b[38;5;28mself\u001b[39m\u001b[38;5;241m.\u001b[39mproto \u001b[38;5;241m>\u001b[39m\u001b[38;5;241m=\u001b[39m \u001b[38;5;241m4\u001b[39m:\n\u001b[0;32m-> 1582\u001b[0m     \u001b[38;5;28;01mreturn\u001b[39;00m _getattribute(sys\u001b[38;5;241m.\u001b[39mmodules[module], name)[\u001b[38;5;241m0\u001b[39m]\n\u001b[1;32m   1583\u001b[0m \u001b[38;5;28;01melse\u001b[39;00m:\n\u001b[1;32m   1584\u001b[0m     \u001b[38;5;28;01mreturn\u001b[39;00m \u001b[38;5;28mgetattr\u001b[39m(sys\u001b[38;5;241m.\u001b[39mmodules[module], name)\n",
      "File \u001b[0;32m/opt/anaconda3/lib/python3.11/pickle.py:331\u001b[0m, in \u001b[0;36m_getattribute\u001b[0;34m(obj, name)\u001b[0m\n\u001b[1;32m    329\u001b[0m         obj \u001b[38;5;241m=\u001b[39m \u001b[38;5;28mgetattr\u001b[39m(obj, subpath)\n\u001b[1;32m    330\u001b[0m     \u001b[38;5;28;01mexcept\u001b[39;00m \u001b[38;5;167;01mAttributeError\u001b[39;00m:\n\u001b[0;32m--> 331\u001b[0m         \u001b[38;5;28;01mraise\u001b[39;00m \u001b[38;5;167;01mAttributeError\u001b[39;00m(\u001b[38;5;124m\"\u001b[39m\u001b[38;5;124mCan\u001b[39m\u001b[38;5;124m'\u001b[39m\u001b[38;5;124mt get attribute \u001b[39m\u001b[38;5;132;01m{!r}\u001b[39;00m\u001b[38;5;124m on \u001b[39m\u001b[38;5;132;01m{!r}\u001b[39;00m\u001b[38;5;124m\"\u001b[39m\n\u001b[1;32m    332\u001b[0m                              \u001b[38;5;241m.\u001b[39mformat(name, obj)) \u001b[38;5;28;01mfrom\u001b[39;00m \u001b[38;5;28;01mNone\u001b[39;00m\n\u001b[1;32m    333\u001b[0m \u001b[38;5;28;01mreturn\u001b[39;00m obj, parent\n",
      "\u001b[0;31mAttributeError\u001b[0m: Can't get attribute 'DistrictDensityTransformer' on <module '__main__'>"
     ]
    }
   ],
   "source": [
    "pipeline = joblib.load(\"preprocessing.pipeline\")"
   ]
  },
  {
   "cell_type": "code",
   "execution_count": 21,
   "id": "401ff870",
   "metadata": {},
   "outputs": [],
   "source": [
    "scaler_y = joblib.load(\"y.scaler\")"
   ]
  }
 ],
 "metadata": {
  "kernelspec": {
   "display_name": "Python 3 (ipykernel)",
   "language": "python",
   "name": "python3"
  },
  "language_info": {
   "codemirror_mode": {
    "name": "ipython",
    "version": 3
   },
   "file_extension": ".py",
   "mimetype": "text/x-python",
   "name": "python",
   "nbconvert_exporter": "python",
   "pygments_lexer": "ipython3",
   "version": "3.11.7"
  }
 },
 "nbformat": 4,
 "nbformat_minor": 5
}
