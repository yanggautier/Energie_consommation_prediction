{
 "cells": [
  {
   "cell_type": "code",
   "execution_count": 4,
   "id": "cab0bb6b",
   "metadata": {},
   "outputs": [],
   "source": [
    "from __future__ import annotations\n",
    "import bentoml\n",
    "from datetime import datetime\n",
    "from pydantic import BaseModel, PositiveInt\n",
    "from typing import Optional"
   ]
  },
  {
   "cell_type": "code",
   "execution_count": 14,
   "id": "5a9ad6d2",
   "metadata": {},
   "outputs": [],
   "source": [
    "import joblib\n",
    "\n",
    "from xgboost import XGBRegressor\n",
    "from sklearn.pipeline import Pipeline"
   ]
  },
  {
   "cell_type": "code",
   "execution_count": 6,
   "id": "7e5e4aa0",
   "metadata": {},
   "outputs": [],
   "source": [
    "class Building(BaseModel):  \n",
    "    DataYear: int = 2016\n",
    "    BuildingType: str\n",
    "    PrimaryPropertyType: str\n",
    "    SecondLargestPropertyUseType: Optional[str]\n",
    "    ThirdLargestPropertyUseType: Optional[str]\n",
    "    ZipCode: str\n",
    "    CouncilDistrictCode: int\n",
    "    Neighborhood: str\n",
    "    YearBuilt: int\n",
    "    NumberofBuildings: int\n",
    "    NumberofFloors: int\n",
    "    PropertyGFATotal: float\n",
    "    PropertyGFAParking: float\n",
    "    ListOfAllPropertyUseTypes: str\n",
    "    LargestPropertyUseType: str\n",
    "    SteamUsekBtu: float\n",
    "    NaturalGastherms: float\n",
    "    DefaultData: bool\n",
    "    ComplianceStatus: str"
   ]
  },
  {
   "cell_type": "code",
   "execution_count": 10,
   "id": "9771eb27",
   "metadata": {},
   "outputs": [],
   "source": [
    "external_data = {\n",
    "    \"DataYear\": 2016, \n",
    "    \"BuildingType\": \"NonResidential\",\n",
    "    \"PrimaryPropertyType\": \"Other\",\n",
    "    \"SecondLargestPropertyUseType\": None,\n",
    "    \"ThirdLargestPropertyUseType\": None,\n",
    "    \"ZipCode\": \"98101\",\n",
    "    \"CouncilDistrictCode\": \"7\",\n",
    "    \"Neighborhood\": \"DOWNTOWN\",\n",
    "    \"YearBuilt\": 2004,\n",
    "    \"NumberofBuildings\": 1,\n",
    "    \"NumberofFloors\": 11,\n",
    "    \"PropertyGFATotal\": 299070,\n",
    "    \"PropertyGFAParking\": 68432,\n",
    "    \"ListOfAllPropertyUseTypes\": \"Other\",\n",
    "    \"LargestPropertyUseType\": \"Other\",\n",
    "    \"SteamUsekBtu\": 0,\n",
    "    \"NaturalGastherms\": 346853.3125,\n",
    "    \"DefaultData\": False,\n",
    "    \"ComplianceStatus\": \"Compliant\"\n",
    "}\n",
    "\n",
    "building = Building(**external_data) "
   ]
  },
  {
   "cell_type": "code",
   "execution_count": 13,
   "id": "aad47f88",
   "metadata": {},
   "outputs": [
    {
     "data": {
      "text/plain": [
       "{'DataYear': 2016,\n",
       " 'BuildingType': 'NonResidential',\n",
       " 'PrimaryPropertyType': 'Other',\n",
       " 'SecondLargestPropertyUseType': None,\n",
       " 'ThirdLargestPropertyUseType': None,\n",
       " 'ZipCode': '98101',\n",
       " 'CouncilDistrictCode': 7,\n",
       " 'Neighborhood': 'DOWNTOWN',\n",
       " 'YearBuilt': 2004,\n",
       " 'NumberofBuildings': 1,\n",
       " 'NumberofFloors': 11,\n",
       " 'PropertyGFATotal': 299070.0,\n",
       " 'PropertyGFAParking': 68432.0,\n",
       " 'ListOfAllPropertyUseTypes': 'Other',\n",
       " 'LargestPropertyUseType': 'Other',\n",
       " 'SteamUsekBtu': 0.0,\n",
       " 'NaturalGastherms': 346853.3125,\n",
       " 'DefaultData': False,\n",
       " 'ComplianceStatus': 'Compliant'}"
      ]
     },
     "execution_count": 13,
     "metadata": {},
     "output_type": "execute_result"
    }
   ],
   "source": [
    "building.model_dump()"
   ]
  },
  {
   "cell_type": "code",
   "execution_count": null,
   "id": "fb7dbb86",
   "metadata": {},
   "outputs": [],
   "source": [
    "\n",
    "print(user.id)  \n",
    "#> 123\n",
    "print(user.model_dump())  \n",
    "\"\"\"\n",
    "{\n",
    "    'id': 123,\n",
    "    'name': 'John Doe',\n",
    "    'signup_ts': datetime.datetime(2019, 6, 1, 12, 22),\n",
    "    'tastes': {'wine': 9, 'cheese': 7, 'cabbage': 1},\n",
    "}\n",
    "\"\"\""
   ]
  },
  {
   "cell_type": "code",
   "execution_count": 16,
   "id": "f02db429",
   "metadata": {},
   "outputs": [],
   "source": [
    "EXAMPLE_INPUT = {\n",
    "    \"DataYear\": 2016, \n",
    "    \"BuildingType\": \"NonResidential\",\n",
    "    \"PrimaryPropertyType\": \"Other\",\n",
    "    \"SecondLargestPropertyUseType\": None,\n",
    "    \"ThirdLargestPropertyUseType\": None,\n",
    "    \"ZipCode\": \"98101\",\n",
    "    \"CouncilDistrictCode\": \"7\",\n",
    "    \"Neighborhood\": \"DOWNTOWN\",\n",
    "    \"YearBuilt\": 2004,\n",
    "    \"NumberofBuildings\": 1,\n",
    "    \"NumberofFloors\": 11,\n",
    "    \"PropertyGFATotal\": 299070,\n",
    "    \"PropertyGFAParking\": 68432,\n",
    "    \"ListOfAllPropertyUseTypes\": \"Other\",\n",
    "    \"LargestPropertyUseType\": \"Other\",\n",
    "    \"SteamUsekBtu\": 0,\n",
    "    \"NaturalGastherms\": 346853.3125,\n",
    "    \"DefaultData\": False,\n",
    "    \"ComplianceStatus\": \"Compliant\"\n",
    "}\n",
    "\n",
    "\n",
    "@bentoml.service\n",
    "class Prediction:\n",
    "    def __init__(self) -> None:\n",
    "        self.model = joblib.load(\"model/xgb.model\")\n",
    "        self.pipeline = joblib.load(\"preprocessing.pipeline\")\n",
    "        self.scaler_y = joblib.load(\"y.scaler\")\n",
    "\n",
    "    @bentoml.api\n",
    "    def summarize(self, building: Building = EXAMPLE_INPUT) -> float:\n",
    "        transformed_data = self.pipeline([building])\n",
    "        result = self.model.predict(transformed_data)\n",
    "        return result"
   ]
  },
  {
   "cell_type": "code",
   "execution_count": null,
   "id": "7d544bb9",
   "metadata": {},
   "outputs": [],
   "source": []
  }
 ],
 "metadata": {
  "kernelspec": {
   "display_name": "Python 3 (ipykernel)",
   "language": "python",
   "name": "python3"
  },
  "language_info": {
   "codemirror_mode": {
    "name": "ipython",
    "version": 3
   },
   "file_extension": ".py",
   "mimetype": "text/x-python",
   "name": "python",
   "nbconvert_exporter": "python",
   "pygments_lexer": "ipython3",
   "version": "3.11.7"
  }
 },
 "nbformat": 4,
 "nbformat_minor": 5
}
